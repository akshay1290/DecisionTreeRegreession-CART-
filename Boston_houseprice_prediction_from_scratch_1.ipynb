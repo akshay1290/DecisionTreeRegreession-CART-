{
  "nbformat": 4,
  "nbformat_minor": 0,
  "metadata": {
    "colab": {
      "provenance": []
    },
    "kernelspec": {
      "name": "python3",
      "display_name": "Python 3"
    },
    "language_info": {
      "name": "python"
    }
  },
  "cells": [
    {
      "cell_type": "code",
      "execution_count": 2,
      "metadata": {
        "id": "8qVzZ7CQUeyU"
      },
      "outputs": [],
      "source": [
        "import numpy as np\n",
        "import pandas as pd"
      ]
    },
    {
      "cell_type": "code",
      "source": [
        "data = pd.read_csv(\"HousingData.csv\")\n",
        "data.head(5)"
      ],
      "metadata": {
        "colab": {
          "base_uri": "https://localhost:8080/",
          "height": 206
        },
        "id": "KKU0CluBUkGJ",
        "outputId": "f6ed57f5-2431-44d4-d837-7ea9b157dcfa"
      },
      "execution_count": 3,
      "outputs": [
        {
          "output_type": "execute_result",
          "data": {
            "text/plain": [
              "      CRIM    ZN  INDUS  CHAS    NOX     RM   AGE     DIS  RAD  TAX  PTRATIO  \\\n",
              "0  0.00632  18.0   2.31   0.0  0.538  6.575  65.2  4.0900    1  296     15.3   \n",
              "1  0.02731   0.0   7.07   0.0  0.469  6.421  78.9  4.9671    2  242     17.8   \n",
              "2  0.02729   0.0   7.07   0.0  0.469  7.185  61.1  4.9671    2  242     17.8   \n",
              "3  0.03237   0.0   2.18   0.0  0.458  6.998  45.8  6.0622    3  222     18.7   \n",
              "4  0.06905   0.0   2.18   0.0  0.458  7.147  54.2  6.0622    3  222     18.7   \n",
              "\n",
              "        B  LSTAT  MEDV  \n",
              "0  396.90   4.98  24.0  \n",
              "1  396.90   9.14  21.6  \n",
              "2  392.83   4.03  34.7  \n",
              "3  394.63   2.94  33.4  \n",
              "4  396.90    NaN  36.2  "
            ],
            "text/html": [
              "\n",
              "  <div id=\"df-8fbb7f2d-7bb4-43a6-a9a5-518bd5cc5316\">\n",
              "    <div class=\"colab-df-container\">\n",
              "      <div>\n",
              "<style scoped>\n",
              "    .dataframe tbody tr th:only-of-type {\n",
              "        vertical-align: middle;\n",
              "    }\n",
              "\n",
              "    .dataframe tbody tr th {\n",
              "        vertical-align: top;\n",
              "    }\n",
              "\n",
              "    .dataframe thead th {\n",
              "        text-align: right;\n",
              "    }\n",
              "</style>\n",
              "<table border=\"1\" class=\"dataframe\">\n",
              "  <thead>\n",
              "    <tr style=\"text-align: right;\">\n",
              "      <th></th>\n",
              "      <th>CRIM</th>\n",
              "      <th>ZN</th>\n",
              "      <th>INDUS</th>\n",
              "      <th>CHAS</th>\n",
              "      <th>NOX</th>\n",
              "      <th>RM</th>\n",
              "      <th>AGE</th>\n",
              "      <th>DIS</th>\n",
              "      <th>RAD</th>\n",
              "      <th>TAX</th>\n",
              "      <th>PTRATIO</th>\n",
              "      <th>B</th>\n",
              "      <th>LSTAT</th>\n",
              "      <th>MEDV</th>\n",
              "    </tr>\n",
              "  </thead>\n",
              "  <tbody>\n",
              "    <tr>\n",
              "      <th>0</th>\n",
              "      <td>0.00632</td>\n",
              "      <td>18.0</td>\n",
              "      <td>2.31</td>\n",
              "      <td>0.0</td>\n",
              "      <td>0.538</td>\n",
              "      <td>6.575</td>\n",
              "      <td>65.2</td>\n",
              "      <td>4.0900</td>\n",
              "      <td>1</td>\n",
              "      <td>296</td>\n",
              "      <td>15.3</td>\n",
              "      <td>396.90</td>\n",
              "      <td>4.98</td>\n",
              "      <td>24.0</td>\n",
              "    </tr>\n",
              "    <tr>\n",
              "      <th>1</th>\n",
              "      <td>0.02731</td>\n",
              "      <td>0.0</td>\n",
              "      <td>7.07</td>\n",
              "      <td>0.0</td>\n",
              "      <td>0.469</td>\n",
              "      <td>6.421</td>\n",
              "      <td>78.9</td>\n",
              "      <td>4.9671</td>\n",
              "      <td>2</td>\n",
              "      <td>242</td>\n",
              "      <td>17.8</td>\n",
              "      <td>396.90</td>\n",
              "      <td>9.14</td>\n",
              "      <td>21.6</td>\n",
              "    </tr>\n",
              "    <tr>\n",
              "      <th>2</th>\n",
              "      <td>0.02729</td>\n",
              "      <td>0.0</td>\n",
              "      <td>7.07</td>\n",
              "      <td>0.0</td>\n",
              "      <td>0.469</td>\n",
              "      <td>7.185</td>\n",
              "      <td>61.1</td>\n",
              "      <td>4.9671</td>\n",
              "      <td>2</td>\n",
              "      <td>242</td>\n",
              "      <td>17.8</td>\n",
              "      <td>392.83</td>\n",
              "      <td>4.03</td>\n",
              "      <td>34.7</td>\n",
              "    </tr>\n",
              "    <tr>\n",
              "      <th>3</th>\n",
              "      <td>0.03237</td>\n",
              "      <td>0.0</td>\n",
              "      <td>2.18</td>\n",
              "      <td>0.0</td>\n",
              "      <td>0.458</td>\n",
              "      <td>6.998</td>\n",
              "      <td>45.8</td>\n",
              "      <td>6.0622</td>\n",
              "      <td>3</td>\n",
              "      <td>222</td>\n",
              "      <td>18.7</td>\n",
              "      <td>394.63</td>\n",
              "      <td>2.94</td>\n",
              "      <td>33.4</td>\n",
              "    </tr>\n",
              "    <tr>\n",
              "      <th>4</th>\n",
              "      <td>0.06905</td>\n",
              "      <td>0.0</td>\n",
              "      <td>2.18</td>\n",
              "      <td>0.0</td>\n",
              "      <td>0.458</td>\n",
              "      <td>7.147</td>\n",
              "      <td>54.2</td>\n",
              "      <td>6.0622</td>\n",
              "      <td>3</td>\n",
              "      <td>222</td>\n",
              "      <td>18.7</td>\n",
              "      <td>396.90</td>\n",
              "      <td>NaN</td>\n",
              "      <td>36.2</td>\n",
              "    </tr>\n",
              "  </tbody>\n",
              "</table>\n",
              "</div>\n",
              "      <button class=\"colab-df-convert\" onclick=\"convertToInteractive('df-8fbb7f2d-7bb4-43a6-a9a5-518bd5cc5316')\"\n",
              "              title=\"Convert this dataframe to an interactive table.\"\n",
              "              style=\"display:none;\">\n",
              "        \n",
              "  <svg xmlns=\"http://www.w3.org/2000/svg\" height=\"24px\"viewBox=\"0 0 24 24\"\n",
              "       width=\"24px\">\n",
              "    <path d=\"M0 0h24v24H0V0z\" fill=\"none\"/>\n",
              "    <path d=\"M18.56 5.44l.94 2.06.94-2.06 2.06-.94-2.06-.94-.94-2.06-.94 2.06-2.06.94zm-11 1L8.5 8.5l.94-2.06 2.06-.94-2.06-.94L8.5 2.5l-.94 2.06-2.06.94zm10 10l.94 2.06.94-2.06 2.06-.94-2.06-.94-.94-2.06-.94 2.06-2.06.94z\"/><path d=\"M17.41 7.96l-1.37-1.37c-.4-.4-.92-.59-1.43-.59-.52 0-1.04.2-1.43.59L10.3 9.45l-7.72 7.72c-.78.78-.78 2.05 0 2.83L4 21.41c.39.39.9.59 1.41.59.51 0 1.02-.2 1.41-.59l7.78-7.78 2.81-2.81c.8-.78.8-2.07 0-2.86zM5.41 20L4 18.59l7.72-7.72 1.47 1.35L5.41 20z\"/>\n",
              "  </svg>\n",
              "      </button>\n",
              "      \n",
              "  <style>\n",
              "    .colab-df-container {\n",
              "      display:flex;\n",
              "      flex-wrap:wrap;\n",
              "      gap: 12px;\n",
              "    }\n",
              "\n",
              "    .colab-df-convert {\n",
              "      background-color: #E8F0FE;\n",
              "      border: none;\n",
              "      border-radius: 50%;\n",
              "      cursor: pointer;\n",
              "      display: none;\n",
              "      fill: #1967D2;\n",
              "      height: 32px;\n",
              "      padding: 0 0 0 0;\n",
              "      width: 32px;\n",
              "    }\n",
              "\n",
              "    .colab-df-convert:hover {\n",
              "      background-color: #E2EBFA;\n",
              "      box-shadow: 0px 1px 2px rgba(60, 64, 67, 0.3), 0px 1px 3px 1px rgba(60, 64, 67, 0.15);\n",
              "      fill: #174EA6;\n",
              "    }\n",
              "\n",
              "    [theme=dark] .colab-df-convert {\n",
              "      background-color: #3B4455;\n",
              "      fill: #D2E3FC;\n",
              "    }\n",
              "\n",
              "    [theme=dark] .colab-df-convert:hover {\n",
              "      background-color: #434B5C;\n",
              "      box-shadow: 0px 1px 3px 1px rgba(0, 0, 0, 0.15);\n",
              "      filter: drop-shadow(0px 1px 2px rgba(0, 0, 0, 0.3));\n",
              "      fill: #FFFFFF;\n",
              "    }\n",
              "  </style>\n",
              "\n",
              "      <script>\n",
              "        const buttonEl =\n",
              "          document.querySelector('#df-8fbb7f2d-7bb4-43a6-a9a5-518bd5cc5316 button.colab-df-convert');\n",
              "        buttonEl.style.display =\n",
              "          google.colab.kernel.accessAllowed ? 'block' : 'none';\n",
              "\n",
              "        async function convertToInteractive(key) {\n",
              "          const element = document.querySelector('#df-8fbb7f2d-7bb4-43a6-a9a5-518bd5cc5316');\n",
              "          const dataTable =\n",
              "            await google.colab.kernel.invokeFunction('convertToInteractive',\n",
              "                                                     [key], {});\n",
              "          if (!dataTable) return;\n",
              "\n",
              "          const docLinkHtml = 'Like what you see? Visit the ' +\n",
              "            '<a target=\"_blank\" href=https://colab.research.google.com/notebooks/data_table.ipynb>data table notebook</a>'\n",
              "            + ' to learn more about interactive tables.';\n",
              "          element.innerHTML = '';\n",
              "          dataTable['output_type'] = 'display_data';\n",
              "          await google.colab.output.renderOutput(dataTable, element);\n",
              "          const docLink = document.createElement('div');\n",
              "          docLink.innerHTML = docLinkHtml;\n",
              "          element.appendChild(docLink);\n",
              "        }\n",
              "      </script>\n",
              "    </div>\n",
              "  </div>\n",
              "  "
            ]
          },
          "metadata": {},
          "execution_count": 3
        }
      ]
    },
    {
      "cell_type": "code",
      "source": [
        "#Attribute Information (in order):\n",
        "#- CRIM per capita crime rate by town\n",
        "#- ZN proportion of residential land zoned for lots over 25,000 sq.ft.\n",
        "#- INDUS proportion of non-retail business acres per town\n",
        "#- CHAS Charles River dummy variable (= 1 if tract bounds river; 0 otherwise)\n",
        "#- NOX nitric oxides concentration (parts per 10 million)\n",
        "#- RM average number of rooms per dwelling\n",
        "#- AGE proportion of owner-occupied units built prior to 1940\n",
        "#- DIS weighted distances to five Boston employment centres\n",
        "#- RAD index of accessibility to radial highways\n",
        "#- TAX full-value property-tax rate per  10,000\n",
        "# - PTRATIO  pupil-teacher ratio by town\n",
        "# - B  1000(Bk - 0.63)^2 where Bk is the proportion of blacks by town\n",
        "# - LSTAT    % lower status of the population\n",
        "#- MEDV     Median value of owner-occupied homes "
      ],
      "metadata": {
        "id": "O-c2Yf02Xyay"
      },
      "execution_count": 4,
      "outputs": []
    },
    {
      "cell_type": "code",
      "source": [
        "data.info()"
      ],
      "metadata": {
        "colab": {
          "base_uri": "https://localhost:8080/"
        },
        "id": "yHLbpCHJX7Jy",
        "outputId": "3f5fda59-4d1a-4bea-8b23-e45cf830bc41"
      },
      "execution_count": 5,
      "outputs": [
        {
          "output_type": "stream",
          "name": "stdout",
          "text": [
            "<class 'pandas.core.frame.DataFrame'>\n",
            "RangeIndex: 506 entries, 0 to 505\n",
            "Data columns (total 14 columns):\n",
            " #   Column   Non-Null Count  Dtype  \n",
            "---  ------   --------------  -----  \n",
            " 0   CRIM     486 non-null    float64\n",
            " 1   ZN       486 non-null    float64\n",
            " 2   INDUS    486 non-null    float64\n",
            " 3   CHAS     486 non-null    float64\n",
            " 4   NOX      506 non-null    float64\n",
            " 5   RM       506 non-null    float64\n",
            " 6   AGE      486 non-null    float64\n",
            " 7   DIS      506 non-null    float64\n",
            " 8   RAD      506 non-null    int64  \n",
            " 9   TAX      506 non-null    int64  \n",
            " 10  PTRATIO  506 non-null    float64\n",
            " 11  B        506 non-null    float64\n",
            " 12  LSTAT    486 non-null    float64\n",
            " 13  MEDV     506 non-null    float64\n",
            "dtypes: float64(12), int64(2)\n",
            "memory usage: 55.5 KB\n"
          ]
        }
      ]
    },
    {
      "cell_type": "code",
      "source": [
        "## checking the percentage of nan values present in each feature\n",
        "\n",
        "features_with_na=[features for features in data.columns if data[features].isnull().sum()>1]\n",
        "\n",
        "for feature in features_with_na:\n",
        "    print(feature, np.round(data[feature].isnull().mean(), 4),  ' % missing values')"
      ],
      "metadata": {
        "colab": {
          "base_uri": "https://localhost:8080/"
        },
        "id": "ZapaWq5mX_VD",
        "outputId": "7fd988e0-de65-4c44-8188-3e4a672a2a18"
      },
      "execution_count": 6,
      "outputs": [
        {
          "output_type": "stream",
          "name": "stdout",
          "text": [
            "CRIM 0.0395  % missing values\n",
            "ZN 0.0395  % missing values\n",
            "INDUS 0.0395  % missing values\n",
            "CHAS 0.0395  % missing values\n",
            "AGE 0.0395  % missing values\n",
            "LSTAT 0.0395  % missing values\n"
          ]
        }
      ]
    },
    {
      "cell_type": "code",
      "source": [
        "data.isnull().sum()"
      ],
      "metadata": {
        "colab": {
          "base_uri": "https://localhost:8080/"
        },
        "id": "kxZCApWNYCf6",
        "outputId": "d031f3a2-fb0b-4fde-e3ce-0371becb3b90"
      },
      "execution_count": 7,
      "outputs": [
        {
          "output_type": "execute_result",
          "data": {
            "text/plain": [
              "CRIM       20\n",
              "ZN         20\n",
              "INDUS      20\n",
              "CHAS       20\n",
              "NOX         0\n",
              "RM          0\n",
              "AGE        20\n",
              "DIS         0\n",
              "RAD         0\n",
              "TAX         0\n",
              "PTRATIO     0\n",
              "B           0\n",
              "LSTAT      20\n",
              "MEDV        0\n",
              "dtype: int64"
            ]
          },
          "metadata": {},
          "execution_count": 7
        }
      ]
    },
    {
      "cell_type": "code",
      "source": [
        "data = data.fillna(data.mean())"
      ],
      "metadata": {
        "id": "jy6hKfYwYGT_"
      },
      "execution_count": 8,
      "outputs": []
    },
    {
      "cell_type": "code",
      "source": [
        "data.isnull().sum()"
      ],
      "metadata": {
        "colab": {
          "base_uri": "https://localhost:8080/"
        },
        "id": "6R6rs81rYKYg",
        "outputId": "830bc2be-860d-4390-b769-cff64a709814"
      },
      "execution_count": 9,
      "outputs": [
        {
          "output_type": "execute_result",
          "data": {
            "text/plain": [
              "CRIM       0\n",
              "ZN         0\n",
              "INDUS      0\n",
              "CHAS       0\n",
              "NOX        0\n",
              "RM         0\n",
              "AGE        0\n",
              "DIS        0\n",
              "RAD        0\n",
              "TAX        0\n",
              "PTRATIO    0\n",
              "B          0\n",
              "LSTAT      0\n",
              "MEDV       0\n",
              "dtype: int64"
            ]
          },
          "metadata": {},
          "execution_count": 9
        }
      ]
    },
    {
      "cell_type": "code",
      "source": [
        "class Node():\n",
        "    def __init__(self, feature_index=None, threshold=None, left=None, right=None, var_red=None, value=None):\n",
        "        ''' constructor ''' \n",
        "        \n",
        "        # for decision node\n",
        "        self.feature_index = feature_index\n",
        "        self.threshold = threshold\n",
        "        self.left = left\n",
        "        self.right = right\n",
        "        self.var_red = var_red\n",
        "        \n",
        "        # for leaf node\n",
        "        self.value = value"
      ],
      "metadata": {
        "id": "EaJqgjJYUmz4"
      },
      "execution_count": 10,
      "outputs": []
    },
    {
      "cell_type": "code",
      "source": [
        "\n",
        "import numpy as np\n",
        "class DecisionTreeRegressor():\n",
        "   # called every time an object is created from a class\n",
        "    def __init__(self, min_samples_split=2, max_depth=2):\n",
        "        ''' constructor '''\n",
        "       \n",
        "        # initialize the root of the tree \n",
        "        self.root = None\n",
        "        \n",
        "        # stopping conditions\n",
        "        self.min_samples_split = min_samples_split #specifies the minimum number of samples required to split an internal node\n",
        "        self.max_depth = max_depth  #determines the maximum depth of the decision tree that will be constructed\n",
        "    def get_best_split(self, dataset, num_samples, num_features):\n",
        "        ''' function to find the best split '''\n",
        "        \n",
        "        # dictionary to store the best split\n",
        "        best_split = {}\n",
        "        max_var_red = -float(\"inf\")\n",
        "        # loop over all the features in the dataset\n",
        "        for feature_index in range(num_features):\n",
        "            feature_values = dataset[:, feature_index]\n",
        "            #it will assighn the unique values in the dataset\n",
        "            possible_thresholds = np.unique(feature_values)\n",
        "            # loop over all the unique feature values present in the data\n",
        "            for threshold in possible_thresholds:\n",
        "                # get current split\n",
        "                dataset_left, dataset_right = self.split(dataset, feature_index, threshold)\n",
        "                # check if childs are not null \n",
        "                if len(dataset_left)>0 and len(dataset_right)>0:\n",
        "                    y, left_y, right_y = dataset[:, -1], dataset_left[:, -1], dataset_right[:, -1]\n",
        "                    # compute varience reduction for target variable\n",
        "                    curr_var_red = self.variance_reduction(y, left_y, right_y)\n",
        "                    # update the best split if needed\n",
        "                    # if curr_var_red is greater than max_var_red then it will update the best split as this value\n",
        "                    if curr_var_red>max_var_red:\n",
        "                        best_split[\"feature_index\"] = feature_index\n",
        "                        best_split[\"threshold\"] = threshold\n",
        "                        best_split[\"dataset_left\"] = dataset_left\n",
        "                        best_split[\"dataset_right\"] = dataset_right\n",
        "                        best_split[\"var_red\"] = curr_var_red\n",
        "                        max_var_red = curr_var_red\n",
        "                        \n",
        "        # return best split\n",
        "        return best_split\n",
        "    \n",
        "    def split(self, dataset, feature_index, threshold):\n",
        "        ''' function to split the data '''\n",
        "        # if feature value or index is less than or equal to the threshold then the value is assighned to left \n",
        "        dataset_left = np.array([row for row in dataset if row[feature_index]<=threshold])\n",
        "        # if feature value or index is greater than  to the threshold then the value is assighned to right \n",
        "        dataset_right = np.array([row for row in dataset if row[feature_index]>threshold])\n",
        "        # after splitiing it will return the result\n",
        "        return dataset_left, dataset_right\n",
        "    \n",
        "    def variance_reduction(self, parent, l_child, r_child):\n",
        "        ''' function to compute variance reduction gfeature'''\n",
        "        \n",
        "        weight_l = len(l_child) / len(parent)# it will calculate the varience of the left chaild\n",
        "        weight_r = len(r_child) / len(parent)# it will calculate the varience of the right chld\n",
        "        #after calculating varience of left and right child then using this we are going to calculate the varience reduction using this formula \n",
        "        #taking sum of the right and left child and subtracting with the varience of parent \n",
        "        reduction = np.var(parent) - (weight_l * np.var(l_child) + weight_r * np.var(r_child))\n",
        "        #return the varience reduction\n",
        "        return reduction\n",
        "    \n",
        "    def calculate_leaf_value(self, Y):\n",
        "        ''' function to compute leaf node '''\n",
        "        #it is used to find value of leaf node\n",
        "        val = np.mean(Y)\n",
        "        return val  \n",
        "\n",
        "    def build_tree(self, dataset, curr_depth=0):\n",
        "        ''' recursive function to build the tree '''\n",
        "        #it will separate the data into independent and dependet \n",
        "        X, Y = dataset[:,:-1], dataset[:,-1]\n",
        "        num_samples, num_features = np.shape(X)\n",
        "        #this dictionory will store best split value\n",
        "        best_split = {}\n",
        "        # split until stopping conditions are met\n",
        "        if num_samples>=self.min_samples_split and curr_depth<=self.max_depth:\n",
        "            # find the best split\n",
        "            best_split = self.get_best_split(dataset, num_samples, num_features)\n",
        "            # check if information gain is positive\n",
        "            if best_split[\"var_red\"]>0:\n",
        "              #if the best split varience reduction is greater than 0 it will build left and right subtree and increases the size of the depth +1\n",
        "                # recur left\n",
        "                left_subtree = self.build_tree(best_split[\"dataset_left\"], curr_depth+1)\n",
        "                # recur right\n",
        "                right_subtree = self.build_tree(best_split[\"dataset_right\"], curr_depth+1)\n",
        "                # return decision node\n",
        "                return Node(best_split[\"feature_index\"], best_split[\"threshold\"], \n",
        "                            left_subtree, right_subtree, best_split[\"var_red\"])\n",
        "        \n",
        "        # compute leaf node\n",
        "        leaf_value = self.calculate_leaf_value(Y)\n",
        "        # return leaf node\n",
        "        return Node(value=leaf_value)\n",
        "    \n",
        "    \n",
        "    #it will shows the how the tree will be build \n",
        "    def print_tree(self, tree=None, indent=\" \"):\n",
        "        ''' function to print the tree '''\n",
        "        \n",
        "        if not tree:\n",
        "            tree = self.root\n",
        "\n",
        "        if tree.value is not None:\n",
        "            print(tree.value)\n",
        "\n",
        "        else:\n",
        "            print(\"X_\"+str(tree.feature_index), \"<=\", tree.threshold, \"?\", tree.var_red)\n",
        "            print(\"%sleft:\" % (indent), end=\"\")\n",
        "            self.print_tree(tree.left, indent + indent)\n",
        "            print(\"%sright:\" % (indent), end=\"\")\n",
        "            self.print_tree(tree.right, indent + indent)\n",
        "    \n",
        "    def fit(self, X, Y):\n",
        "        ''' function to train the tree '''\n",
        "        \n",
        "        dataset = np.concatenate((X, Y), axis=1)\n",
        "        self.root = self.build_tree(dataset)\n",
        "        \n",
        "    def make_prediction(self, x, tree):\n",
        "        ''' function to predict new dataset '''\n",
        "        \n",
        "        if tree.value!=None: return tree.value\n",
        "        feature_val = x[tree.feature_index]\n",
        "        #the feature value is less than or equal to the threshol value of the tree it will make prediction on left tree else make prediction on right tree\n",
        "        if feature_val<=tree.threshold:\n",
        "            return self.make_prediction(x, tree.left)\n",
        "        else:\n",
        "            return self.make_prediction(x, tree.right)\n",
        "    \n",
        "    def predict(self, X):\n",
        "        ''' function to predict a single data point '''\n",
        "         # Traverse the decision tree to make a prediction for a single instance\n",
        "        preditions = [self.make_prediction(x, self.root) for x in X]\n",
        "        return preditions\n",
        "\n",
        "\n",
        "       \n",
        "    def mean_squared_error(self,y_true, y_pred):\n",
        "   \n",
        "      # Check if the lengths of both arrays are equal\n",
        "      if len(y_true) != len(y_pred):\n",
        "          raise ValueError(\"Length of y_true and y_pred should be the same.\")\n",
        "      \n",
        "      # Calculate the squared differences between the true and predicted values\n",
        "      squared_differences = [(y_true[i] - y_pred[i])**2 for i in range(len(y_true))]\n",
        "      \n",
        "      # Calculate the mean of the squared differences\n",
        "      mse = sum(squared_differences) / len(squared_differences)\n",
        "      \n",
        "      return mse\n",
        "\n",
        "\n",
        "    "
      ],
      "metadata": {
        "id": "wATfNdCwUrhM"
      },
      "execution_count": 11,
      "outputs": []
    },
    {
      "cell_type": "code",
      "source": [
        "X = data.iloc[:, :-1].values\n",
        "Y = data.iloc[:, -1].values.reshape(-1,1)\n",
        "#from sklearn.model_selection import train_test_split\n",
        "#X_train, X_test, Y_train, Y_test = train_test_split(X, Y, test_size=.2, random_state=41)\n",
        "#print(Y)"
      ],
      "metadata": {
        "id": "J07ehp2bUsUG"
      },
      "execution_count": 12,
      "outputs": []
    },
    {
      "cell_type": "code",
      "source": [
        "import random\n",
        "\n",
        "def train_test_split(X, y, test_size=0.2, random_state=None):\n",
        "    if random_state:\n",
        "        random.seed(random_state)\n",
        "    \n",
        "    n = len(X)\n",
        "    test_data = set(random.sample(range(n), int(n * test_size)))\n",
        "    train_data = set(range(n)) - test_data\n",
        "    \n",
        "    X_train = [X[i] for i in train_data]\n",
        "    X_test = [X[i] for i in test_data]\n",
        "    y_train = [y[i] for i in train_data]\n",
        "    y_test = [y[i] for i in test_data]\n",
        "    return X_train, X_test, y_train, y_test\n",
        "X_train, X_test, Y_train, Y_test = train_test_split(X, Y, test_size=.2, random_state=41)"
      ],
      "metadata": {
        "id": "XHQiVX1_lHZY"
      },
      "execution_count": 13,
      "outputs": []
    },
    {
      "cell_type": "code",
      "source": [
        "regressor = DecisionTreeRegressor(min_samples_split=3, max_depth=3)\n",
        "regressor.fit(X_train,Y_train)\n",
        "regressor.print_tree()\n"
      ],
      "metadata": {
        "colab": {
          "base_uri": "https://localhost:8080/"
        },
        "id": "rgukI78sU8Jz",
        "outputId": "4a19e887-9bb8-4da1-c557-f53d058ea0f5"
      },
      "execution_count": 14,
      "outputs": [
        {
          "output_type": "stream",
          "name": "stdout",
          "text": [
            "X_5 <= 6.833 ? 35.04811008514187\n",
            " left:X_12 <= 14.37 ? 15.549253772248505\n",
            "  left:X_7 <= 1.3567 ? 7.254110053155017\n",
            "    left:50.0\n",
            "    right:X_5 <= 6.54 ? 4.9401685306475525\n",
            "        left:21.50297619047619\n",
            "        right:27.333333333333332\n",
            "  right:X_0 <= 6.80117 ? 6.497678954506002\n",
            "    left:X_9 <= 296.0 ? 2.3464273212690916\n",
            "        left:19.966666666666665\n",
            "        right:16.118032786885248\n",
            "    right:X_4 <= 0.597 ? 4.23368327765078\n",
            "        left:16.7\n",
            "        right:10.863829787234042\n",
            " right:X_5 <= 7.42 ? 38.442443376711296\n",
            "  left:X_0 <= 4.64689 ? 19.825400000000002\n",
            "    left:X_12 <= 5.39 ? 4.261275510204079\n",
            "        left:34.31428571428572\n",
            "        right:30.185714285714283\n",
            "    right:X_0 <= 19.6091 ? 8.0\n",
            "        left:16.4\n",
            "        right:10.4\n",
            "  right:X_4 <= 0.647 ? 22.533632067365524\n",
            "    left:X_0 <= 0.57529 ? 6.176879192999509\n",
            "        left:43.82941176470588\n",
            "        right:49.760000000000005\n",
            "    right:21.9\n"
          ]
        }
      ]
    },
    {
      "cell_type": "code",
      "source": [
        "y_pred = regressor.predict(X_test)"
      ],
      "metadata": {
        "id": "LZ_S5SYan6j0"
      },
      "execution_count": 15,
      "outputs": []
    },
    {
      "cell_type": "code",
      "source": [
        "y_pred\n"
      ],
      "metadata": {
        "colab": {
          "base_uri": "https://localhost:8080/"
        },
        "id": "zYwFPXxknliE",
        "outputId": "db52607d-3793-46d8-def5-459949816beb"
      },
      "execution_count": 16,
      "outputs": [
        {
          "output_type": "execute_result",
          "data": {
            "text/plain": [
              "[30.185714285714283,\n",
              " 16.118032786885248,\n",
              " 16.118032786885248,\n",
              " 21.50297619047619,\n",
              " 21.50297619047619,\n",
              " 21.50297619047619,\n",
              " 21.50297619047619,\n",
              " 16.118032786885248,\n",
              " 27.333333333333332,\n",
              " 16.118032786885248,\n",
              " 21.50297619047619,\n",
              " 27.333333333333332,\n",
              " 21.50297619047619,\n",
              " 19.966666666666665,\n",
              " 21.50297619047619,\n",
              " 16.118032786885248,\n",
              " 19.966666666666665,\n",
              " 27.333333333333332,\n",
              " 30.185714285714283,\n",
              " 21.50297619047619,\n",
              " 21.50297619047619,\n",
              " 21.50297619047619,\n",
              " 21.50297619047619,\n",
              " 21.50297619047619,\n",
              " 27.333333333333332,\n",
              " 21.50297619047619,\n",
              " 21.50297619047619,\n",
              " 21.50297619047619,\n",
              " 16.118032786885248,\n",
              " 21.50297619047619,\n",
              " 16.118032786885248,\n",
              " 16.118032786885248,\n",
              " 21.50297619047619,\n",
              " 16.118032786885248,\n",
              " 16.118032786885248,\n",
              " 16.118032786885248,\n",
              " 16.118032786885248,\n",
              " 16.118032786885248,\n",
              " 16.118032786885248,\n",
              " 49.760000000000005,\n",
              " 49.760000000000005,\n",
              " 16.118032786885248,\n",
              " 21.50297619047619,\n",
              " 43.82941176470588,\n",
              " 34.31428571428572,\n",
              " 30.185714285714283,\n",
              " 43.82941176470588,\n",
              " 43.82941176470588,\n",
              " 21.50297619047619,\n",
              " 19.966666666666665,\n",
              " 27.333333333333332,\n",
              " 16.118032786885248,\n",
              " 30.185714285714283,\n",
              " 43.82941176470588,\n",
              " 27.333333333333332,\n",
              " 21.50297619047619,\n",
              " 34.31428571428572,\n",
              " 21.50297619047619,\n",
              " 30.185714285714283,\n",
              " 43.82941176470588,\n",
              " 30.185714285714283,\n",
              " 27.333333333333332,\n",
              " 21.50297619047619,\n",
              " 30.185714285714283,\n",
              " 21.50297619047619,\n",
              " 16.118032786885248,\n",
              " 21.50297619047619,\n",
              " 21.50297619047619,\n",
              " 21.50297619047619,\n",
              " 21.50297619047619,\n",
              " 30.185714285714283,\n",
              " 27.333333333333332,\n",
              " 21.50297619047619,\n",
              " 27.333333333333332,\n",
              " 16.4,\n",
              " 50.0,\n",
              " 50.0,\n",
              " 10.863829787234042,\n",
              " 50.0,\n",
              " 10.863829787234042,\n",
              " 10.863829787234042,\n",
              " 10.863829787234042,\n",
              " 10.863829787234042,\n",
              " 50.0,\n",
              " 10.863829787234042,\n",
              " 10.863829787234042,\n",
              " 16.118032786885248,\n",
              " 16.118032786885248,\n",
              " 10.863829787234042,\n",
              " 10.863829787234042,\n",
              " 10.863829787234042,\n",
              " 16.118032786885248,\n",
              " 16.118032786885248,\n",
              " 21.50297619047619,\n",
              " 16.7,\n",
              " 16.4,\n",
              " 16.118032786885248,\n",
              " 16.118032786885248,\n",
              " 16.118032786885248,\n",
              " 21.50297619047619,\n",
              " 21.50297619047619]"
            ]
          },
          "metadata": {},
          "execution_count": 16
        }
      ]
    },
    {
      "cell_type": "code",
      "source": [
        "np.sqrt(regressor.mean_squared_error(Y_test,y_pred))"
      ],
      "metadata": {
        "colab": {
          "base_uri": "https://localhost:8080/"
        },
        "id": "VPWulmJBoaQg",
        "outputId": "209b2666-b499-43ff-f28c-6200af727074"
      },
      "execution_count": 18,
      "outputs": [
        {
          "output_type": "execute_result",
          "data": {
            "text/plain": [
              "array([6.26163758])"
            ]
          },
          "metadata": {},
          "execution_count": 18
        }
      ]
    }
  ]
}